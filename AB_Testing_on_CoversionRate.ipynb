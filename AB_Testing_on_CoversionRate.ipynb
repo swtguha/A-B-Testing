{
  "nbformat": 4,
  "nbformat_minor": 0,
  "metadata": {
    "colab": {
      "provenance": []
    },
    "kernelspec": {
      "name": "python3",
      "display_name": "Python 3"
    },
    "language_info": {
      "name": "python"
    }
  },
  "cells": [
    {
      "cell_type": "code",
      "execution_count": 64,
      "metadata": {
        "id": "kFlRlwtLZcfV"
      },
      "outputs": [],
      "source": [
        "# Packages imports\n",
        "import numpy as np\n",
        "import pandas as pd\n",
        "import scipy.stats as stats\n",
        "import statsmodels.stats.api as sms\n",
        "import matplotlib as mpl\n",
        "import matplotlib.pyplot as plt\n",
        "import seaborn as sns\n",
        "from math import ceil\n",
        "\n",
        "%matplotlib inline"
      ]
    },
    {
      "cell_type": "code",
      "source": [
        "from google.colab import drive\n",
        "drive.mount('/content/drive')\n",
        "file_path = \"/content/drive/My Drive/ab_data.csv\""
      ],
      "metadata": {
        "colab": {
          "base_uri": "https://localhost:8080/"
        },
        "id": "xQT0hxRVekme",
        "outputId": "fe7f9d2c-b115-49c8-d81b-f967c1954be9"
      },
      "execution_count": 65,
      "outputs": [
        {
          "output_type": "stream",
          "name": "stdout",
          "text": [
            "Drive already mounted at /content/drive; to attempt to forcibly remount, call drive.mount(\"/content/drive\", force_remount=True).\n"
          ]
        }
      ]
    },
    {
      "cell_type": "code",
      "source": [
        "# Load the CSV file into a DataFrame\n",
        "df = pd.read_csv(file_path)"
      ],
      "metadata": {
        "id": "qBnsfpZse47L"
      },
      "execution_count": 66,
      "outputs": []
    },
    {
      "cell_type": "code",
      "source": [
        "#Checking missing values\n",
        "df.isnull().sum()\n",
        "len(df)"
      ],
      "metadata": {
        "colab": {
          "base_uri": "https://localhost:8080/"
        },
        "id": "B8ckfTK0g0yL",
        "outputId": "d045ef38-6850-4f0e-c7eb-c5af4670164c"
      },
      "execution_count": 67,
      "outputs": [
        {
          "output_type": "execute_result",
          "data": {
            "text/plain": [
              "294478"
            ]
          },
          "metadata": {},
          "execution_count": 67
        }
      ]
    },
    {
      "cell_type": "markdown",
      "source": [
        "There are no missing values. Now, we will calculate the ideal sample size for each group. We have selected power value 80% (The probability of correctly rejecting the null hypothesis when it is false.)"
      ],
      "metadata": {
        "id": "DXADIHlUhF_N"
      }
    },
    {
      "cell_type": "code",
      "source": [
        "import math\n",
        "#Expected conversion rate\n",
        "p1=0.13\n",
        "p2=0.15\n",
        "\n",
        "#calculate effect size\n",
        "effect_size=sms.proportion_effectsize(p1,p2)\n",
        "\n",
        "required_n=sms.NormalIndPower().solve_power(\n",
        "    effect_size,\n",
        "    power=0.8,\n",
        "    alpha=0.05, #Significance level\n",
        "    ratio=1)\n",
        "\n",
        "\n",
        "required_n= math.ceil(required_n)\n",
        "print(f\"The required size per group - {required_n}\")\n"
      ],
      "metadata": {
        "colab": {
          "base_uri": "https://localhost:8080/"
        },
        "id": "fJj0Ig6BhXjV",
        "outputId": "1c24772f-ee0a-4a6e-fe9c-135b1d192c97"
      },
      "execution_count": 68,
      "outputs": [
        {
          "output_type": "stream",
          "name": "stdout",
          "text": [
            "The required size per group - 4720\n"
          ]
        }
      ]
    },
    {
      "cell_type": "code",
      "source": [
        "df.head()"
      ],
      "metadata": {
        "colab": {
          "base_uri": "https://localhost:8080/",
          "height": 206
        },
        "id": "xu8cGJrXqnn_",
        "outputId": "83d79679-c66b-4252-e55f-ddef22f1720a"
      },
      "execution_count": 69,
      "outputs": [
        {
          "output_type": "execute_result",
          "data": {
            "text/plain": [
              "   user_id                   timestamp      group landing_page  converted\n",
              "0   851104  2017-01-21 22:11:48.556739    control     old_page          0\n",
              "1   804228  2017-01-12 08:01:45.159739    control     old_page          0\n",
              "2   661590  2017-01-11 16:55:06.154213  treatment     new_page          0\n",
              "3   853541  2017-01-08 18:28:03.143765  treatment     new_page          0\n",
              "4   864975  2017-01-21 01:52:26.210827    control     old_page          1"
            ],
            "text/html": [
              "\n",
              "  <div id=\"df-61ffefae-6951-4582-a97c-b2d973033ce3\" class=\"colab-df-container\">\n",
              "    <div>\n",
              "<style scoped>\n",
              "    .dataframe tbody tr th:only-of-type {\n",
              "        vertical-align: middle;\n",
              "    }\n",
              "\n",
              "    .dataframe tbody tr th {\n",
              "        vertical-align: top;\n",
              "    }\n",
              "\n",
              "    .dataframe thead th {\n",
              "        text-align: right;\n",
              "    }\n",
              "</style>\n",
              "<table border=\"1\" class=\"dataframe\">\n",
              "  <thead>\n",
              "    <tr style=\"text-align: right;\">\n",
              "      <th></th>\n",
              "      <th>user_id</th>\n",
              "      <th>timestamp</th>\n",
              "      <th>group</th>\n",
              "      <th>landing_page</th>\n",
              "      <th>converted</th>\n",
              "    </tr>\n",
              "  </thead>\n",
              "  <tbody>\n",
              "    <tr>\n",
              "      <th>0</th>\n",
              "      <td>851104</td>\n",
              "      <td>2017-01-21 22:11:48.556739</td>\n",
              "      <td>control</td>\n",
              "      <td>old_page</td>\n",
              "      <td>0</td>\n",
              "    </tr>\n",
              "    <tr>\n",
              "      <th>1</th>\n",
              "      <td>804228</td>\n",
              "      <td>2017-01-12 08:01:45.159739</td>\n",
              "      <td>control</td>\n",
              "      <td>old_page</td>\n",
              "      <td>0</td>\n",
              "    </tr>\n",
              "    <tr>\n",
              "      <th>2</th>\n",
              "      <td>661590</td>\n",
              "      <td>2017-01-11 16:55:06.154213</td>\n",
              "      <td>treatment</td>\n",
              "      <td>new_page</td>\n",
              "      <td>0</td>\n",
              "    </tr>\n",
              "    <tr>\n",
              "      <th>3</th>\n",
              "      <td>853541</td>\n",
              "      <td>2017-01-08 18:28:03.143765</td>\n",
              "      <td>treatment</td>\n",
              "      <td>new_page</td>\n",
              "      <td>0</td>\n",
              "    </tr>\n",
              "    <tr>\n",
              "      <th>4</th>\n",
              "      <td>864975</td>\n",
              "      <td>2017-01-21 01:52:26.210827</td>\n",
              "      <td>control</td>\n",
              "      <td>old_page</td>\n",
              "      <td>1</td>\n",
              "    </tr>\n",
              "  </tbody>\n",
              "</table>\n",
              "</div>\n",
              "    <div class=\"colab-df-buttons\">\n",
              "\n",
              "  <div class=\"colab-df-container\">\n",
              "    <button class=\"colab-df-convert\" onclick=\"convertToInteractive('df-61ffefae-6951-4582-a97c-b2d973033ce3')\"\n",
              "            title=\"Convert this dataframe to an interactive table.\"\n",
              "            style=\"display:none;\">\n",
              "\n",
              "  <svg xmlns=\"http://www.w3.org/2000/svg\" height=\"24px\" viewBox=\"0 -960 960 960\">\n",
              "    <path d=\"M120-120v-720h720v720H120Zm60-500h600v-160H180v160Zm220 220h160v-160H400v160Zm0 220h160v-160H400v160ZM180-400h160v-160H180v160Zm440 0h160v-160H620v160ZM180-180h160v-160H180v160Zm440 0h160v-160H620v160Z\"/>\n",
              "  </svg>\n",
              "    </button>\n",
              "\n",
              "  <style>\n",
              "    .colab-df-container {\n",
              "      display:flex;\n",
              "      gap: 12px;\n",
              "    }\n",
              "\n",
              "    .colab-df-convert {\n",
              "      background-color: #E8F0FE;\n",
              "      border: none;\n",
              "      border-radius: 50%;\n",
              "      cursor: pointer;\n",
              "      display: none;\n",
              "      fill: #1967D2;\n",
              "      height: 32px;\n",
              "      padding: 0 0 0 0;\n",
              "      width: 32px;\n",
              "    }\n",
              "\n",
              "    .colab-df-convert:hover {\n",
              "      background-color: #E2EBFA;\n",
              "      box-shadow: 0px 1px 2px rgba(60, 64, 67, 0.3), 0px 1px 3px 1px rgba(60, 64, 67, 0.15);\n",
              "      fill: #174EA6;\n",
              "    }\n",
              "\n",
              "    .colab-df-buttons div {\n",
              "      margin-bottom: 4px;\n",
              "    }\n",
              "\n",
              "    [theme=dark] .colab-df-convert {\n",
              "      background-color: #3B4455;\n",
              "      fill: #D2E3FC;\n",
              "    }\n",
              "\n",
              "    [theme=dark] .colab-df-convert:hover {\n",
              "      background-color: #434B5C;\n",
              "      box-shadow: 0px 1px 3px 1px rgba(0, 0, 0, 0.15);\n",
              "      filter: drop-shadow(0px 1px 2px rgba(0, 0, 0, 0.3));\n",
              "      fill: #FFFFFF;\n",
              "    }\n",
              "  </style>\n",
              "\n",
              "    <script>\n",
              "      const buttonEl =\n",
              "        document.querySelector('#df-61ffefae-6951-4582-a97c-b2d973033ce3 button.colab-df-convert');\n",
              "      buttonEl.style.display =\n",
              "        google.colab.kernel.accessAllowed ? 'block' : 'none';\n",
              "\n",
              "      async function convertToInteractive(key) {\n",
              "        const element = document.querySelector('#df-61ffefae-6951-4582-a97c-b2d973033ce3');\n",
              "        const dataTable =\n",
              "          await google.colab.kernel.invokeFunction('convertToInteractive',\n",
              "                                                    [key], {});\n",
              "        if (!dataTable) return;\n",
              "\n",
              "        const docLinkHtml = 'Like what you see? Visit the ' +\n",
              "          '<a target=\"_blank\" href=https://colab.research.google.com/notebooks/data_table.ipynb>data table notebook</a>'\n",
              "          + ' to learn more about interactive tables.';\n",
              "        element.innerHTML = '';\n",
              "        dataTable['output_type'] = 'display_data';\n",
              "        await google.colab.output.renderOutput(dataTable, element);\n",
              "        const docLink = document.createElement('div');\n",
              "        docLink.innerHTML = docLinkHtml;\n",
              "        element.appendChild(docLink);\n",
              "      }\n",
              "    </script>\n",
              "  </div>\n",
              "\n",
              "\n",
              "<div id=\"df-da3fbde2-2ce9-4b2e-89f6-7459435a9280\">\n",
              "  <button class=\"colab-df-quickchart\" onclick=\"quickchart('df-da3fbde2-2ce9-4b2e-89f6-7459435a9280')\"\n",
              "            title=\"Suggest charts\"\n",
              "            style=\"display:none;\">\n",
              "\n",
              "<svg xmlns=\"http://www.w3.org/2000/svg\" height=\"24px\"viewBox=\"0 0 24 24\"\n",
              "     width=\"24px\">\n",
              "    <g>\n",
              "        <path d=\"M19 3H5c-1.1 0-2 .9-2 2v14c0 1.1.9 2 2 2h14c1.1 0 2-.9 2-2V5c0-1.1-.9-2-2-2zM9 17H7v-7h2v7zm4 0h-2V7h2v10zm4 0h-2v-4h2v4z\"/>\n",
              "    </g>\n",
              "</svg>\n",
              "  </button>\n",
              "\n",
              "<style>\n",
              "  .colab-df-quickchart {\n",
              "      --bg-color: #E8F0FE;\n",
              "      --fill-color: #1967D2;\n",
              "      --hover-bg-color: #E2EBFA;\n",
              "      --hover-fill-color: #174EA6;\n",
              "      --disabled-fill-color: #AAA;\n",
              "      --disabled-bg-color: #DDD;\n",
              "  }\n",
              "\n",
              "  [theme=dark] .colab-df-quickchart {\n",
              "      --bg-color: #3B4455;\n",
              "      --fill-color: #D2E3FC;\n",
              "      --hover-bg-color: #434B5C;\n",
              "      --hover-fill-color: #FFFFFF;\n",
              "      --disabled-bg-color: #3B4455;\n",
              "      --disabled-fill-color: #666;\n",
              "  }\n",
              "\n",
              "  .colab-df-quickchart {\n",
              "    background-color: var(--bg-color);\n",
              "    border: none;\n",
              "    border-radius: 50%;\n",
              "    cursor: pointer;\n",
              "    display: none;\n",
              "    fill: var(--fill-color);\n",
              "    height: 32px;\n",
              "    padding: 0;\n",
              "    width: 32px;\n",
              "  }\n",
              "\n",
              "  .colab-df-quickchart:hover {\n",
              "    background-color: var(--hover-bg-color);\n",
              "    box-shadow: 0 1px 2px rgba(60, 64, 67, 0.3), 0 1px 3px 1px rgba(60, 64, 67, 0.15);\n",
              "    fill: var(--button-hover-fill-color);\n",
              "  }\n",
              "\n",
              "  .colab-df-quickchart-complete:disabled,\n",
              "  .colab-df-quickchart-complete:disabled:hover {\n",
              "    background-color: var(--disabled-bg-color);\n",
              "    fill: var(--disabled-fill-color);\n",
              "    box-shadow: none;\n",
              "  }\n",
              "\n",
              "  .colab-df-spinner {\n",
              "    border: 2px solid var(--fill-color);\n",
              "    border-color: transparent;\n",
              "    border-bottom-color: var(--fill-color);\n",
              "    animation:\n",
              "      spin 1s steps(1) infinite;\n",
              "  }\n",
              "\n",
              "  @keyframes spin {\n",
              "    0% {\n",
              "      border-color: transparent;\n",
              "      border-bottom-color: var(--fill-color);\n",
              "      border-left-color: var(--fill-color);\n",
              "    }\n",
              "    20% {\n",
              "      border-color: transparent;\n",
              "      border-left-color: var(--fill-color);\n",
              "      border-top-color: var(--fill-color);\n",
              "    }\n",
              "    30% {\n",
              "      border-color: transparent;\n",
              "      border-left-color: var(--fill-color);\n",
              "      border-top-color: var(--fill-color);\n",
              "      border-right-color: var(--fill-color);\n",
              "    }\n",
              "    40% {\n",
              "      border-color: transparent;\n",
              "      border-right-color: var(--fill-color);\n",
              "      border-top-color: var(--fill-color);\n",
              "    }\n",
              "    60% {\n",
              "      border-color: transparent;\n",
              "      border-right-color: var(--fill-color);\n",
              "    }\n",
              "    80% {\n",
              "      border-color: transparent;\n",
              "      border-right-color: var(--fill-color);\n",
              "      border-bottom-color: var(--fill-color);\n",
              "    }\n",
              "    90% {\n",
              "      border-color: transparent;\n",
              "      border-bottom-color: var(--fill-color);\n",
              "    }\n",
              "  }\n",
              "</style>\n",
              "\n",
              "  <script>\n",
              "    async function quickchart(key) {\n",
              "      const quickchartButtonEl =\n",
              "        document.querySelector('#' + key + ' button');\n",
              "      quickchartButtonEl.disabled = true;  // To prevent multiple clicks.\n",
              "      quickchartButtonEl.classList.add('colab-df-spinner');\n",
              "      try {\n",
              "        const charts = await google.colab.kernel.invokeFunction(\n",
              "            'suggestCharts', [key], {});\n",
              "      } catch (error) {\n",
              "        console.error('Error during call to suggestCharts:', error);\n",
              "      }\n",
              "      quickchartButtonEl.classList.remove('colab-df-spinner');\n",
              "      quickchartButtonEl.classList.add('colab-df-quickchart-complete');\n",
              "    }\n",
              "    (() => {\n",
              "      let quickchartButtonEl =\n",
              "        document.querySelector('#df-da3fbde2-2ce9-4b2e-89f6-7459435a9280 button');\n",
              "      quickchartButtonEl.style.display =\n",
              "        google.colab.kernel.accessAllowed ? 'block' : 'none';\n",
              "    })();\n",
              "  </script>\n",
              "</div>\n",
              "\n",
              "    </div>\n",
              "  </div>\n"
            ],
            "application/vnd.google.colaboratory.intrinsic+json": {
              "type": "dataframe",
              "variable_name": "df"
            }
          },
          "metadata": {},
          "execution_count": 69
        }
      ]
    },
    {
      "cell_type": "code",
      "source": [
        "df['group'].dtypes"
      ],
      "metadata": {
        "colab": {
          "base_uri": "https://localhost:8080/"
        },
        "id": "juR-I8qvqtVv",
        "outputId": "34e80f0e-ee2c-44c0-eb99-8aca61e7b014"
      },
      "execution_count": 70,
      "outputs": [
        {
          "output_type": "execute_result",
          "data": {
            "text/plain": [
              "dtype('O')"
            ]
          },
          "metadata": {},
          "execution_count": 70
        }
      ]
    },
    {
      "cell_type": "code",
      "source": [
        "# Check if all control group users are seeing the old page\n",
        "control_page_check = df[df['group'] == 'control']['landing_page'].value_counts()\n",
        "\n",
        "# Check if all treatment group users are seeing the new page\n",
        "treatment_page_check = df[df['group'] == 'treatment']['landing_page'].value_counts()\n",
        "\n",
        "print(\"Control Group Page Assignment:\")\n",
        "print(control_page_check)\n",
        "\n",
        "print(\"Treatment Group Page Assignment:\")\n",
        "print(treatment_page_check)"
      ],
      "metadata": {
        "colab": {
          "base_uri": "https://localhost:8080/"
        },
        "id": "iPjXSoFLvRND",
        "outputId": "a444f0a3-e85b-47af-eeeb-be6c468ff4e4"
      },
      "execution_count": 71,
      "outputs": [
        {
          "output_type": "stream",
          "name": "stdout",
          "text": [
            "Control Group Page Assignment:\n",
            "landing_page\n",
            "old_page    145274\n",
            "new_page      1928\n",
            "Name: count, dtype: int64\n",
            "Treatment Group Page Assignment:\n",
            "landing_page\n",
            "new_page    145311\n",
            "old_page      1965\n",
            "Name: count, dtype: int64\n"
          ]
        }
      ]
    },
    {
      "cell_type": "markdown",
      "source": [
        "Now we will check number of users who have been sampled multiple times"
      ],
      "metadata": {
        "id": "tVqjYlQBwJsp"
      }
    },
    {
      "cell_type": "code",
      "source": [
        "#Check sample_count\n",
        "\n",
        "sample_count=df.user_id.value_counts(ascending=False)\n",
        "multi_sampleCount=sample_count[sample_count>1].count()\n",
        "print(f\"There are {multi_sampleCount} users who have been sampled multiple times\")"
      ],
      "metadata": {
        "colab": {
          "base_uri": "https://localhost:8080/"
        },
        "id": "QWRrmQ66wHjU",
        "outputId": "614bafb7-a160-411d-fd44-b21590bd0dc3"
      },
      "execution_count": 72,
      "outputs": [
        {
          "output_type": "stream",
          "name": "stdout",
          "text": [
            "There are 3894 users who have been sampled multiple times\n"
          ]
        }
      ]
    },
    {
      "cell_type": "markdown",
      "source": [
        "We will drop these 3894 users"
      ],
      "metadata": {
        "id": "mTtpG3wnxNqc"
      }
    },
    {
      "cell_type": "code",
      "source": [
        "#Drop users who have been smapled multiple times\n",
        "user_index= sample_count[sample_count>1].index\n",
        "df=df[~df.user_id.isin(user_index)]\n",
        "df.shape"
      ],
      "metadata": {
        "colab": {
          "base_uri": "https://localhost:8080/"
        },
        "id": "u4ysprbFxL21",
        "outputId": "b880ec74-7ef7-41a6-bc0a-33aa223dd139"
      },
      "execution_count": 73,
      "outputs": [
        {
          "output_type": "execute_result",
          "data": {
            "text/plain": [
              "(286690, 5)"
            ]
          },
          "metadata": {},
          "execution_count": 73
        }
      ]
    },
    {
      "cell_type": "code",
      "source": [
        "\n",
        "control_sample = df[df['group'] == 'control'].sample(n=required_n, random_state=22)\n",
        "treatment_sample = df[df['group'] == 'treatment'].sample(n=required_n, random_state=22)\n",
        "\n",
        "ab_test_d = pd.concat([control_sample, treatment_sample], axis=0)\n",
        "ab_test_d.reset_index(drop=True, inplace=True)"
      ],
      "metadata": {
        "id": "XxTZhUD8y5KY"
      },
      "execution_count": 74,
      "outputs": []
    },
    {
      "cell_type": "code",
      "source": [
        "print(ab_test_d[['group', 'landing_page']].value_counts())"
      ],
      "metadata": {
        "colab": {
          "base_uri": "https://localhost:8080/"
        },
        "id": "CNrThzhL5i9Q",
        "outputId": "7caa3831-f065-49f3-e2c5-dae89d65196f"
      },
      "execution_count": 75,
      "outputs": [
        {
          "output_type": "stream",
          "name": "stdout",
          "text": [
            "group      landing_page\n",
            "control    old_page        4720\n",
            "treatment  new_page        4720\n",
            "Name: count, dtype: int64\n"
          ]
        }
      ]
    },
    {
      "cell_type": "markdown",
      "source": [
        "We tried to get an overview of the data distribution and central tendencies for both groups."
      ],
      "metadata": {
        "id": "ucm67jBz68eh"
      }
    },
    {
      "cell_type": "code",
      "source": [
        "print(ab_test_d.groupby('group')['converted'].describe())"
      ],
      "metadata": {
        "colab": {
          "base_uri": "https://localhost:8080/"
        },
        "id": "URVUBBNJ6M3a",
        "outputId": "a6aca686-0305-4871-cca3-06b171cf08a8"
      },
      "execution_count": 76,
      "outputs": [
        {
          "output_type": "stream",
          "name": "stdout",
          "text": [
            "            count      mean       std  min  25%  50%  75%  max\n",
            "group                                                         \n",
            "control    4720.0  0.123305  0.328822  0.0  0.0  0.0  0.0  1.0\n",
            "treatment  4720.0  0.125636  0.331473  0.0  0.0  0.0  0.0  1.0\n"
          ]
        }
      ]
    },
    {
      "cell_type": "markdown",
      "source": [
        "Now we will calculate conversion rate for each group"
      ],
      "metadata": {
        "id": "RdmlAlY67wY_"
      }
    },
    {
      "cell_type": "code",
      "source": [
        "# Calculate the number of conversions and sample sizes\n",
        "control_conversions = ab_test_d[ab_test_d['group'] == 'control']['converted'].sum()\n",
        "treatment_conversions = ab_test_d[ab_test_d['group'] == 'treatment']['converted'].sum()\n",
        "\n",
        "control_size = ab_test_d[ab_test_d['group'] == 'control'].shape[0]\n",
        "treatment_size = ab_test_d[ab_test_d['group'] == 'treatment'].shape[0]\n",
        "\n",
        "# Calculate conversion rates\n",
        "conversion_rate_control = control_conversions / control_size\n",
        "conversion_rate_treatment = treatment_conversions / treatment_size\n",
        "\n",
        "# Print results\n",
        "print(f\"Control Group Conversion Rate: {conversion_rate_control:.4f}\")\n",
        "print(f\"Treatment Group Conversion Rate: {conversion_rate_treatment:.4f}\")"
      ],
      "metadata": {
        "colab": {
          "base_uri": "https://localhost:8080/"
        },
        "id": "q4YzXbol7jQY",
        "outputId": "126da607-fb2d-4437-da4c-b0ac2d015502"
      },
      "execution_count": 77,
      "outputs": [
        {
          "output_type": "stream",
          "name": "stdout",
          "text": [
            "Control Group Conversion Rate: 0.1233\n",
            "Treatment Group Conversion Rate: 0.1256\n"
          ]
        }
      ]
    },
    {
      "cell_type": "code",
      "source": [
        "#Z test\n",
        "from statsmodels.stats.proportion import proportions_ztest\n",
        "# Perform proportions z-test\n",
        "counts = [control_conversions, treatment_conversions]\n",
        "nobs = [control_size, treatment_size]\n",
        "\n",
        "z_stat, p_val = proportions_ztest(counts, nobs)\n",
        "\n",
        "print(f\"Z-statistic: {z_stat:.4f}\")\n",
        "print(f\"P-value: {p_val:.4f}\")"
      ],
      "metadata": {
        "colab": {
          "base_uri": "https://localhost:8080/"
        },
        "id": "-JyUU7I38Cqc",
        "outputId": "6a7d1be0-035d-4644-c12d-de0dcb9eefc5"
      },
      "execution_count": 78,
      "outputs": [
        {
          "output_type": "stream",
          "name": "stdout",
          "text": [
            "Z-statistic: -0.3430\n",
            "P-value: 0.7316\n"
          ]
        }
      ]
    },
    {
      "cell_type": "code",
      "source": [
        "from scipy import stats\n",
        "from statsmodels.stats.proportion import proportion_confint\n",
        "\n",
        "control_metric = ab_test_d[ab_test_d['group'] == 'control']['converted']\n",
        "treatment_metric = ab_test_d[ab_test_d['group'] == 'treatment']['converted']\n",
        "\n",
        "t_stat, p_val = stats.ttest_ind(control_metric, treatment_metric)\n",
        "\n",
        "# Calculate 95% confidence intervals for conversion rates\n",
        "control_ci = proportion_confint(control_conversions, control_size, alpha=0.05, method='wilson')\n",
        "treatment_ci = proportion_confint(treatment_conversions, treatment_size, alpha=0.05, method='wilson')\n",
        "print(f\"T-statistic: {t_stat:.6f}, P-value: {p_val}\")\n",
        "\n",
        "print(f\"Control Group Conversion Rate: {conversion_rate_control:.4f}\")\n",
        "print(f\"95% CI for Control Group: {control_ci}\")\n",
        "\n",
        "print(f\"Treatment Group Conversion Rate: {conversion_rate_treatment:.4f}\")\n",
        "print(f\"95% CI for Treatment Group: {treatment_ci}\")"
      ],
      "metadata": {
        "colab": {
          "base_uri": "https://localhost:8080/"
        },
        "id": "8qa4LvH78x0h",
        "outputId": "cd02ec7a-d67f-498f-cb48-6e50755822f3"
      },
      "execution_count": 79,
      "outputs": [
        {
          "output_type": "stream",
          "name": "stdout",
          "text": [
            "T-statistic: -0.342922, P-value: 0.7316649756550551\n",
            "Control Group Conversion Rate: 0.1233\n",
            "95% CI for Control Group: (0.11423046504442928, 0.13299236599280143)\n",
            "Treatment Group Conversion Rate: 0.1256\n",
            "95% CI for Treatment Group: (0.11648357754676986, 0.13539648007009558)\n"
          ]
        }
      ]
    },
    {
      "cell_type": "markdown",
      "source": [
        "**Interpretation**\n",
        "\n",
        "P-value:\n",
        "\n",
        "The p-value of 0.7317 is much higher than common significance levels (e.g., 0.05 or 0.01). This suggests that there is no statistically significant difference between the control and treatment groups for the metric we analyzed.\n",
        "\n",
        "Z-statistic and T-statistic:\n",
        "\n",
        "Both the z-statistic and t-statistic are very close to zero, indicating that the observed difference in metrics between the control and treatment groups is minimal."
      ],
      "metadata": {
        "id": "mJF8jtPt9l_s"
      }
    },
    {
      "cell_type": "code",
      "source": [
        "import matplotlib.pyplot as plt\n",
        "import seaborn as sns\n",
        "import pandas as pd\n",
        "\n",
        "# Prepare data for plotting\n",
        "data = {\n",
        "    'Group': ['Control', 'Treatment'],\n",
        "    'Conversion Rate': [conversion_rate_control, conversion_rate_treatment]\n",
        "}\n",
        "df_conversion = pd.DataFrame(data)\n",
        "\n",
        "# Set up the matplotlib figure\n",
        "plt.figure(figsize=(6, 4))\n",
        "\n",
        "# Create a bar plot using matplotlib\n",
        "plt.bar(df_conversion['Group'], df_conversion['Conversion Rate'], width=0.4, color=['#ff9999','#66b3ff'])\n",
        "\n",
        "# Add titles and labels\n",
        "plt.title('Conversion Rate by Group')\n",
        "plt.xlabel('Group')\n",
        "plt.ylabel('Conversion Rate')\n",
        "\n",
        "# Display the plot\n",
        "plt.show()"
      ],
      "metadata": {
        "colab": {
          "base_uri": "https://localhost:8080/",
          "height": 410
        },
        "id": "knS24KC79k-p",
        "outputId": "cc5f03e3-8608-4078-e753-a23a82bc8da4"
      },
      "execution_count": 80,
      "outputs": [
        {
          "output_type": "display_data",
          "data": {
            "text/plain": [
              "<Figure size 600x400 with 1 Axes>"
            ],
            "image/png": "[encoded data removed]"
          },
          "metadata": {}
        }
      ]
    },
    {
      "cell_type": "markdown",
      "source": [
        "**Conversion Rates:**\n",
        "\n",
        "The conversion rates for the control and treatment groups are very close to each other.\n",
        "The confidence intervals for both groups overlap significantly, suggesting that there is no substantial difference between the conversion rates of the two groups.\n",
        "\n",
        "**Statistical Tests:**\n",
        "\n",
        "Both the Z-test and T-test have high p-values (around 0.73), which is much greater than the typical significance level of 0.05. This means that we fail to reject the null hypothesis.\n",
        "Conclusion from Tests: There is no statistically significant difference in conversion rates between the control and treatment groups.\n",
        "\n",
        "**Overall Conclusion**\n",
        "\n",
        "**Effectiveness of Treatment:** Based on the analysis, the treatment (new page) does not show a statistically significant improvement in conversion rates compared to the control (old page).\n",
        "\n",
        "**Recommendation:** Given that the p-values are high and the confidence intervals overlap, it suggests that the new page might not have a significant impact on conversions. Further experimentation or analysis might be needed to explore other potential factors or improvements."
      ],
      "metadata": {
        "id": "lzqSerKVBZUV"
      }
    }
  ]
}